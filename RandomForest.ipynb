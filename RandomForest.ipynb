{
 "cells": [
  {
   "cell_type": "code",
   "execution_count": 1,
   "id": "30cb58ad",
   "metadata": {},
   "outputs": [
    {
     "name": "stderr",
     "output_type": "stream",
     "text": [
      "Matplotlib is building the font cache; this may take a moment.\n"
     ]
    }
   ],
   "source": [
    "import pandas as pd\n",
    "from sklearn import tree\n",
    "import matplotlib.pyplot as plt\n",
    "from sklearn.tree import DecisionTreeClassifier, plot_tree,export_graphviz\n",
    "from sklearn.tree import export_text\n",
    "import numpy as np"
   ]
  },
  {
   "cell_type": "code",
   "execution_count": 2,
   "id": "6a86d127",
   "metadata": {},
   "outputs": [],
   "source": [
    "dados = pd.read_csv('CCARDBALANCE.csv', sep =';')"
   ]
  },
  {
   "cell_type": "code",
   "execution_count": 3,
   "id": "654f03e1",
   "metadata": {},
   "outputs": [
    {
     "name": "stdout",
     "output_type": "stream",
     "text": [
      "106.025\n"
     ]
    }
   ],
   "source": [
    "dados['Renda'].astype(str)\n",
    "print(dados['Renda'][1].replace(',','.'))"
   ]
  },
  {
   "cell_type": "code",
   "execution_count": 4,
   "id": "fff5d0ff",
   "metadata": {},
   "outputs": [
    {
     "data": {
      "text/html": [
       "<div>\n",
       "<style scoped>\n",
       "    .dataframe tbody tr th:only-of-type {\n",
       "        vertical-align: middle;\n",
       "    }\n",
       "\n",
       "    .dataframe tbody tr th {\n",
       "        vertical-align: top;\n",
       "    }\n",
       "\n",
       "    .dataframe thead th {\n",
       "        text-align: right;\n",
       "    }\n",
       "</style>\n",
       "<table border=\"1\" class=\"dataframe\">\n",
       "  <thead>\n",
       "    <tr style=\"text-align: right;\">\n",
       "      <th></th>\n",
       "      <th>ID</th>\n",
       "      <th>Renda</th>\n",
       "      <th>Limite</th>\n",
       "      <th>Rating</th>\n",
       "      <th>Cartoes</th>\n",
       "      <th>Idade</th>\n",
       "      <th>Educacao</th>\n",
       "      <th>Sexo</th>\n",
       "      <th>Estudante</th>\n",
       "      <th>Casado</th>\n",
       "      <th>Etnia</th>\n",
       "      <th>Gasto Mensal</th>\n",
       "    </tr>\n",
       "  </thead>\n",
       "  <tbody>\n",
       "    <tr>\n",
       "      <th>0</th>\n",
       "      <td>1</td>\n",
       "      <td>14,891</td>\n",
       "      <td>3606</td>\n",
       "      <td>283</td>\n",
       "      <td>2</td>\n",
       "      <td>34</td>\n",
       "      <td>11</td>\n",
       "      <td>Male</td>\n",
       "      <td>No</td>\n",
       "      <td>Yes</td>\n",
       "      <td>Caucasian</td>\n",
       "      <td>333</td>\n",
       "    </tr>\n",
       "    <tr>\n",
       "      <th>1</th>\n",
       "      <td>2</td>\n",
       "      <td>106,025</td>\n",
       "      <td>6645</td>\n",
       "      <td>483</td>\n",
       "      <td>3</td>\n",
       "      <td>82</td>\n",
       "      <td>15</td>\n",
       "      <td>Female</td>\n",
       "      <td>Yes</td>\n",
       "      <td>Yes</td>\n",
       "      <td>Asian</td>\n",
       "      <td>903</td>\n",
       "    </tr>\n",
       "    <tr>\n",
       "      <th>2</th>\n",
       "      <td>3</td>\n",
       "      <td>104,593</td>\n",
       "      <td>7075</td>\n",
       "      <td>514</td>\n",
       "      <td>4</td>\n",
       "      <td>71</td>\n",
       "      <td>11</td>\n",
       "      <td>Male</td>\n",
       "      <td>No</td>\n",
       "      <td>No</td>\n",
       "      <td>Asian</td>\n",
       "      <td>580</td>\n",
       "    </tr>\n",
       "    <tr>\n",
       "      <th>3</th>\n",
       "      <td>4</td>\n",
       "      <td>148,924</td>\n",
       "      <td>9504</td>\n",
       "      <td>681</td>\n",
       "      <td>3</td>\n",
       "      <td>36</td>\n",
       "      <td>11</td>\n",
       "      <td>Female</td>\n",
       "      <td>No</td>\n",
       "      <td>No</td>\n",
       "      <td>Asian</td>\n",
       "      <td>964</td>\n",
       "    </tr>\n",
       "    <tr>\n",
       "      <th>4</th>\n",
       "      <td>5</td>\n",
       "      <td>55,882</td>\n",
       "      <td>4897</td>\n",
       "      <td>357</td>\n",
       "      <td>2</td>\n",
       "      <td>68</td>\n",
       "      <td>16</td>\n",
       "      <td>Male</td>\n",
       "      <td>No</td>\n",
       "      <td>Yes</td>\n",
       "      <td>Caucasian</td>\n",
       "      <td>331</td>\n",
       "    </tr>\n",
       "  </tbody>\n",
       "</table>\n",
       "</div>"
      ],
      "text/plain": [
       "   ID    Renda  Limite  Rating  Cartoes  Idade  Educacao    Sexo Estudante  \\\n",
       "0   1   14,891    3606     283        2     34        11    Male        No   \n",
       "1   2  106,025    6645     483        3     82        15  Female       Yes   \n",
       "2   3  104,593    7075     514        4     71        11    Male        No   \n",
       "3   4  148,924    9504     681        3     36        11  Female        No   \n",
       "4   5   55,882    4897     357        2     68        16    Male        No   \n",
       "\n",
       "  Casado      Etnia  Gasto Mensal  \n",
       "0    Yes  Caucasian           333  \n",
       "1    Yes      Asian           903  \n",
       "2     No      Asian           580  \n",
       "3     No      Asian           964  \n",
       "4    Yes  Caucasian           331  "
      ]
     },
     "execution_count": 4,
     "metadata": {},
     "output_type": "execute_result"
    }
   ],
   "source": [
    "dados.head()"
   ]
  },
  {
   "cell_type": "code",
   "execution_count": 5,
   "id": "ff276a7b",
   "metadata": {},
   "outputs": [
    {
     "data": {
      "text/html": [
       "<div>\n",
       "<style scoped>\n",
       "    .dataframe tbody tr th:only-of-type {\n",
       "        vertical-align: middle;\n",
       "    }\n",
       "\n",
       "    .dataframe tbody tr th {\n",
       "        vertical-align: top;\n",
       "    }\n",
       "\n",
       "    .dataframe thead th {\n",
       "        text-align: right;\n",
       "    }\n",
       "</style>\n",
       "<table border=\"1\" class=\"dataframe\">\n",
       "  <thead>\n",
       "    <tr style=\"text-align: right;\">\n",
       "      <th></th>\n",
       "      <th>ID</th>\n",
       "      <th>Renda</th>\n",
       "      <th>Limite</th>\n",
       "      <th>Rating</th>\n",
       "      <th>Cartoes</th>\n",
       "      <th>Idade</th>\n",
       "      <th>Educacao</th>\n",
       "      <th>Sexo</th>\n",
       "      <th>Estudante</th>\n",
       "      <th>Casado</th>\n",
       "      <th>Gasto Mensal</th>\n",
       "    </tr>\n",
       "    <tr>\n",
       "      <th>Etnia</th>\n",
       "      <th></th>\n",
       "      <th></th>\n",
       "      <th></th>\n",
       "      <th></th>\n",
       "      <th></th>\n",
       "      <th></th>\n",
       "      <th></th>\n",
       "      <th></th>\n",
       "      <th></th>\n",
       "      <th></th>\n",
       "      <th></th>\n",
       "    </tr>\n",
       "  </thead>\n",
       "  <tbody>\n",
       "    <tr>\n",
       "      <th>African American</th>\n",
       "      <td>99</td>\n",
       "      <td>99</td>\n",
       "      <td>99</td>\n",
       "      <td>99</td>\n",
       "      <td>99</td>\n",
       "      <td>99</td>\n",
       "      <td>99</td>\n",
       "      <td>99</td>\n",
       "      <td>99</td>\n",
       "      <td>99</td>\n",
       "      <td>99</td>\n",
       "    </tr>\n",
       "    <tr>\n",
       "      <th>Asian</th>\n",
       "      <td>102</td>\n",
       "      <td>102</td>\n",
       "      <td>102</td>\n",
       "      <td>102</td>\n",
       "      <td>102</td>\n",
       "      <td>102</td>\n",
       "      <td>102</td>\n",
       "      <td>102</td>\n",
       "      <td>102</td>\n",
       "      <td>102</td>\n",
       "      <td>102</td>\n",
       "    </tr>\n",
       "    <tr>\n",
       "      <th>Caucasian</th>\n",
       "      <td>199</td>\n",
       "      <td>199</td>\n",
       "      <td>199</td>\n",
       "      <td>199</td>\n",
       "      <td>199</td>\n",
       "      <td>199</td>\n",
       "      <td>199</td>\n",
       "      <td>199</td>\n",
       "      <td>199</td>\n",
       "      <td>199</td>\n",
       "      <td>199</td>\n",
       "    </tr>\n",
       "  </tbody>\n",
       "</table>\n",
       "</div>"
      ],
      "text/plain": [
       "                   ID  Renda  Limite  Rating  Cartoes  Idade  Educacao  Sexo  \\\n",
       "Etnia                                                                          \n",
       "African American   99     99      99      99       99     99        99    99   \n",
       "Asian             102    102     102     102      102    102       102   102   \n",
       "Caucasian         199    199     199     199      199    199       199   199   \n",
       "\n",
       "                  Estudante  Casado  Gasto Mensal  \n",
       "Etnia                                              \n",
       "African American         99      99            99  \n",
       "Asian                   102     102           102  \n",
       "Caucasian               199     199           199  "
      ]
     },
     "execution_count": 5,
     "metadata": {},
     "output_type": "execute_result"
    }
   ],
   "source": [
    "dados.groupby(dados['Etnia']).count()"
   ]
  },
  {
   "cell_type": "code",
   "execution_count": 6,
   "id": "6ab79574",
   "metadata": {},
   "outputs": [],
   "source": [
    "#Função para classificar quem é Caucasiano \n",
    "def Caucasiano(arr):\n",
    "    if arr == 'Caucasian':\n",
    "        return 1\n",
    "    else:\n",
    "        return 0\n",
    "    "
   ]
  },
  {
   "cell_type": "code",
   "execution_count": 7,
   "id": "f3df112b",
   "metadata": {},
   "outputs": [],
   "source": [
    "dados['Caucasiano']=dados['Etnia'].map(Caucasiano)"
   ]
  },
  {
   "cell_type": "code",
   "execution_count": 8,
   "id": "770f221f",
   "metadata": {},
   "outputs": [],
   "source": [
    "#Função para classificar quem é Asian\n",
    "def Asian(arr):\n",
    "    if arr == 'Asian':\n",
    "        return 1\n",
    "    else:\n",
    "        return 0"
   ]
  },
  {
   "cell_type": "code",
   "execution_count": 9,
   "id": "d66d5df4",
   "metadata": {},
   "outputs": [],
   "source": [
    "dados['Asian']=dados['Etnia'].map(Asian)"
   ]
  },
  {
   "cell_type": "code",
   "execution_count": 10,
   "id": "8c173245",
   "metadata": {},
   "outputs": [],
   "source": [
    "#Função para classificar quem usa ou não o cartão\n",
    "def usa_card(arr):\n",
    "    if arr == 0:\n",
    "        return 0\n",
    "    else:\n",
    "        return 1\n",
    "    "
   ]
  },
  {
   "cell_type": "code",
   "execution_count": 11,
   "id": "306f7a76",
   "metadata": {},
   "outputs": [],
   "source": [
    "#Executando a função para criar um novo array tipo boolean\n",
    "dados['Usa_card']=dados['Gasto Mensal'].map(usa_card)"
   ]
  },
  {
   "cell_type": "code",
   "execution_count": 12,
   "id": "2cdf0a2c",
   "metadata": {},
   "outputs": [],
   "source": [
    "#Função para transoformar alguns valores de string para boolean\n",
    "def string_to_boolean (arr):\n",
    "    if arr ==\"Yes\":\n",
    "        return 1\n",
    "    else: \n",
    "        return 0"
   ]
  },
  {
   "cell_type": "code",
   "execution_count": 13,
   "id": "6646b54e",
   "metadata": {},
   "outputs": [],
   "source": [
    "#Executando a função, criando um novo array tipo boolean\n",
    "dados['Estudante_boolean']=dados['Estudante'].map(string_to_boolean)"
   ]
  },
  {
   "cell_type": "code",
   "execution_count": 14,
   "id": "dc29d04f",
   "metadata": {},
   "outputs": [],
   "source": [
    "#Executando a função, criando um novo array tipo boolean\n",
    "dados['Casado_boolean']=dados['Casado'].map(string_to_boolean)"
   ]
  },
  {
   "cell_type": "code",
   "execution_count": 15,
   "id": "52c9241b",
   "metadata": {},
   "outputs": [],
   "source": [
    "def sexo_to_boolean (arr):\n",
    "    if arr ==\"Male\":\n",
    "        return 1\n",
    "    else: \n",
    "        return 0"
   ]
  },
  {
   "cell_type": "code",
   "execution_count": 16,
   "id": "c6105637",
   "metadata": {},
   "outputs": [],
   "source": [
    "dados['Sexo_boolean']=dados['Sexo'].map(sexo_to_boolean)"
   ]
  },
  {
   "cell_type": "code",
   "execution_count": 17,
   "id": "e185ad2f",
   "metadata": {},
   "outputs": [],
   "source": [
    "dados['Limite']=dados['Limite'].astype(float)\n",
    "dados['Rating']=dados['Rating'].astype(float)\n",
    "dados['Cartoes']=dados['Cartoes'].astype(int)\n",
    "dados['Idade']=dados['Idade'].astype(int)"
   ]
  },
  {
   "cell_type": "code",
   "execution_count": 18,
   "id": "ac443d9a",
   "metadata": {},
   "outputs": [
    {
     "name": "stderr",
     "output_type": "stream",
     "text": [
      "C:\\Users\\matheus.la\\AppData\\Local\\Temp/ipykernel_15000/2250852416.py:4: SettingWithCopyWarning: \n",
      "A value is trying to be set on a copy of a slice from a DataFrame\n",
      "\n",
      "See the caveats in the documentation: https://pandas.pydata.org/pandas-docs/stable/user_guide/indexing.html#returning-a-view-versus-a-copy\n",
      "  dados['Renda'][i]=dados['Renda'][i].replace(',','.')\n"
     ]
    },
    {
     "data": {
      "text/plain": [
       "0       14.891\n",
       "1      106.025\n",
       "2      104.593\n",
       "3      148.924\n",
       "4       55.882\n",
       "        ...   \n",
       "395     12.096\n",
       "396     13.364\n",
       "397     57.872\n",
       "398     37.728\n",
       "399     18.701\n",
       "Name: Renda, Length: 400, dtype: float64"
      ]
     },
     "execution_count": 18,
     "metadata": {},
     "output_type": "execute_result"
    }
   ],
   "source": [
    "#Troca ',' por '.' e converte em float\n",
    "for i in range (0, len(dados['Renda'])):\n",
    "    dados['Renda'].astype(str)\n",
    "    dados['Renda'][i]=dados['Renda'][i].replace(',','.')\n",
    "dados['Renda'].astype(float)"
   ]
  },
  {
   "cell_type": "code",
   "execution_count": 19,
   "id": "997b06ac",
   "metadata": {},
   "outputs": [],
   "source": [
    "#Declarando as variáveis preditoras\n",
    "Variaveis =['Renda','Limite', 'Rating', 'Cartoes', 'Idade', 'Educacao', 'Sexo_boolean', 'Estudante_boolean', 'Casado_boolean', 'Caucasiano', 'Asian']"
   ]
  },
  {
   "cell_type": "code",
   "execution_count": 20,
   "id": "34ea925b",
   "metadata": {},
   "outputs": [
    {
     "name": "stdout",
     "output_type": "stream",
     "text": [
      "Número de Folhas:  14\n",
      "Profundidade:  6\n"
     ]
    }
   ],
   "source": [
    "#Modelo definição do perfil: \n",
    "modelo_perfil = tree.DecisionTreeClassifier(criterion ='gini')\n",
    "modelo_perfil.fit(dados[Variaveis], dados['Usa_card'])\n",
    "print(\"Número de Folhas: \", modelo_perfil.get_n_leaves())\n",
    "print(\"Profundidade: \",modelo_perfil.get_depth())"
   ]
  },
  {
   "cell_type": "code",
   "execution_count": 21,
   "id": "e1b5fdcc",
   "metadata": {},
   "outputs": [
    {
     "data": {
      "text/plain": [
       "\"#Tentativa 1 de plotar a árvore\\n#Fail\\nplt.figure( figsize=(7,7),dpi=100)\\nplot_tree(modelo_perfil,feature_names=dados[Variaveis],  \\n                      class_names=dados['Usa_card'],  \\n                      filled=True, rounded=True,fontsize=5.0\\n                    )\\nplt.show()\""
      ]
     },
     "execution_count": 21,
     "metadata": {},
     "output_type": "execute_result"
    }
   ],
   "source": [
    "'''#Tentativa 1 de plotar a árvore\n",
    "#Fail\n",
    "plt.figure( figsize=(7,7),dpi=100)\n",
    "plot_tree(modelo_perfil,feature_names=dados[Variaveis],  \n",
    "                      class_names=dados['Usa_card'],  \n",
    "                      filled=True, rounded=True,fontsize=5.0\n",
    "                    )\n",
    "plt.show()'''"
   ]
  },
  {
   "cell_type": "code",
   "execution_count": 22,
   "id": "182286f5",
   "metadata": {},
   "outputs": [],
   "source": [
    "# Usam_o_cartao = dados.drop(dados.loc[dados['Usa_card']==0])"
   ]
  },
  {
   "cell_type": "code",
   "execution_count": 25,
   "id": "e298e207",
   "metadata": {},
   "outputs": [],
   "source": [
    "dados_usam_card = dados[dados['Usa_card']!=0]"
   ]
  },
  {
   "cell_type": "code",
   "execution_count": 27,
   "id": "aa3c956c",
   "metadata": {},
   "outputs": [
    {
     "name": "stdout",
     "output_type": "stream",
     "text": [
      "Número de Folhas:  299\n",
      "Profundidade:  22\n"
     ]
    }
   ],
   "source": [
    "#Modelo prever os gastos: \n",
    "modelo_gasto = tree.DecisionTreeClassifier(criterion ='gini')\n",
    "modelo_gasto.fit(dados_usam_card[Variaveis], dados_usam_card['Gasto Mensal'])\n",
    "print(\"Número de Folhas: \", modelo_gasto.get_n_leaves())\n",
    "print(\"Profundidade: \",modelo_gasto.get_depth())"
   ]
  },
  {
   "cell_type": "code",
   "execution_count": 24,
   "id": "b5102b3f",
   "metadata": {},
   "outputs": [],
   "source": [
    "?plot_tree"
   ]
  },
  {
   "cell_type": "code",
   "execution_count": null,
   "id": "dda1aa2a",
   "metadata": {},
   "outputs": [],
   "source": []
  }
 ],
 "metadata": {
  "kernelspec": {
   "display_name": "Python 3 (ipykernel)",
   "language": "python",
   "name": "python3"
  },
  "language_info": {
   "codemirror_mode": {
    "name": "ipython",
    "version": 3
   },
   "file_extension": ".py",
   "mimetype": "text/x-python",
   "name": "python",
   "nbconvert_exporter": "python",
   "pygments_lexer": "ipython3",
   "version": "3.9.7"
  },
  "vscode": {
   "interpreter": {
    "hash": "d674aba619e9128d5d95f68874c090de0e48b8e67c1ba838c5d294b8a6cf0663"
   }
  }
 },
 "nbformat": 4,
 "nbformat_minor": 5
}
